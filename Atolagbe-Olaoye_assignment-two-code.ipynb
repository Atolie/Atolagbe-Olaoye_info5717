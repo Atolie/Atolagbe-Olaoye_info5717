{
 "cells": [
  {
   "cell_type": "markdown",
   "metadata": {},
   "source": [
    "INFO-5717-Assignment-two-code"
   ]
  },
  {
   "cell_type": "markdown",
   "metadata": {},
   "source": [
    "# Question 1 starts below:"
   ]
  },
  {
   "cell_type": "code",
   "execution_count": 26,
   "metadata": {},
   "outputs": [
    {
     "name": "stdout",
     "output_type": "stream",
     "text": [
      "r \t V\n",
      "1 \t 4.1887902047863905\n",
      "2 \t 33.510321638291124\n",
      "3 \t 113.09733552923254\n",
      "4 \t 268.082573106329\n",
      "5 \t 523.5987755982989\n",
      "6 \t 904.7786842338603\n",
      "7 \t 1436.7550402417319\n",
      "8 \t 2144.660584850632\n",
      "9 \t 3053.6280592892786\n",
      "10 \t 4188.790204786391\n"
     ]
    }
   ],
   "source": [
    "#Calculate the value of V when r is in the range of 1 - 10:\n",
    "import math\n",
    "def volumerange(radius):\n",
    "    volume = (4/3)*math.pi*(radius*radius*radius)  \n",
    "    return volume\n",
    "\n",
    "print('r',  '\\t', 'V')\n",
    "\n",
    "for r in range(1, 11):\n",
    "    print(r, '\\t', volumerange(r))"
   ]
  },
  {
   "cell_type": "markdown",
   "metadata": {},
   "source": [
    "# Question 2 starts below:"
   ]
  },
  {
   "cell_type": "markdown",
   "metadata": {},
   "source": [
    "## Solutions 2(1) and 2(2)"
   ]
  },
  {
   "cell_type": "code",
   "execution_count": 5,
   "metadata": {},
   "outputs": [],
   "source": [
    "import os\n",
    "import csv\n",
    "from itertools import zip_longest\n",
    "\n",
    "column1 = []\n",
    "column2 = []\n",
    "column3 = []\n",
    "n = 0\n",
    "for k in range(1,100):\n",
    "    path = 'C:/Assignment 2 data collection/ARTHROTEC.{}.txt'.format(k) # from my directory of C drive\n",
    "    with open(path, 'r') as content_file:\n",
    "        content = content_file.read()\n",
    "    for cont in content.split('\\n'):\n",
    "        column1.append('ARTHROTEC.{}'.format(k) + '_'+str(n)+'.txt')\n",
    "        column2.append(cont)\n",
    "        column3.append(''.join(e for e in cont if e.isalnum()))\n",
    "        n += 1\n",
    "\n",
    "file = [column1, column2, column3]\n",
    "\n",
    "export_content = zip_longest(*file, fillvalue = '')\n",
    "with open('Abidemi.csv', 'w', encoding=\"ISO-8859-1\", newline='') as myfile:  # write to csv file \"Abidemi.csv\"\n",
    "      wr = csv.writer(myfile)\n",
    "      wr.writerow((\"Sentence ID\", \"text content\", \"No Punctuation Sentence\"))\n",
    "      wr.writerows(export_content)\n",
    "myfile.close()"
   ]
  },
  {
   "cell_type": "markdown",
   "metadata": {},
   "source": [
    "## output file dropped to my PC - \"C:\\Users\\aa1316\\Abidemi.csv\" - See attached"
   ]
  },
  {
   "cell_type": "markdown",
   "metadata": {},
   "source": [
    "## Solution 2(3)"
   ]
  },
  {
   "cell_type": "code",
   "execution_count": 6,
   "metadata": {},
   "outputs": [
    {
     "name": "stdout",
     "output_type": "stream",
     "text": [
      "Enter a word: headache\n",
      "Sentence = started having a severe sudden onset headache in the back of head, resulted in trip to DR, BP was extrememly high, and pulse was high as well, after three shots, and 3 clonidine to bring down bp was recommend to visit ER.\n",
      "Sentence ID = ARTHROTEC.7_39.txt\n",
      "Count of word is =  1\n",
      "\n",
      "\n",
      "Sentence = HOWEVER: I had a very bad headache yesterday and Ibuprofen again didn't work.\n",
      "Sentence ID = ARTHROTEC.16_93.txt\n",
      "Count of word is =  1\n",
      "\n",
      "\n",
      "Sentence = headaches, extreme tiredness, worse heartburn in back of throat, hunger pangs, dry mouth, severe lower abdominal pain/cramping, very irritable.\n",
      "Sentence ID = ARTHROTEC.31_212.txt\n",
      "Count of word is =  0\n",
      "\n",
      "\n",
      "Sentence = Natural cures are better; apple cidar vinegar can effectively cure arthritis and headaches; vitamin C crystals can help pain at high doses; the Gerson diet with no salt can cure migrains, Fibro etc see doctoryourself.com and 'just say no to drugs' (Nancy Reagan).\n",
      "Sentence ID = ARTHROTEC.39_257.txt\n",
      "Count of word is =  0\n",
      "\n",
      "\n",
      "Sentence = Stomach pains, chest pains, anxiety, fatigue, headache, erratic heart beat, raised blood pressure, dizziness, nausea (even when taken with food), blurred vision.\n",
      "Sentence ID = ARTHROTEC.42_279.txt\n",
      "Count of word is =  0\n",
      "\n",
      "\n",
      "Sentence = headache but no longer.\n",
      "Sentence ID = ARTHROTEC.70_461.txt\n",
      "Count of word is =  1\n",
      "\n",
      "\n",
      "Sentence = Vaginal bleeding when it was not time for my period, headaches, neck pain,bloating and weight gain.\n",
      "Sentence ID = ARTHROTEC.75_485.txt\n",
      "Count of word is =  0\n",
      "\n",
      "\n",
      "Sentence = Blurred vision, Stomach ache, Water retention, Throbbing headache.\n",
      "Sentence ID = ARTHROTEC.77_497.txt\n",
      "Count of word is =  0\n",
      "\n",
      "\n",
      "Sentence = abdominal pain, constant soreness in abdomen, headache, general stomach upset feeling that won't go away before or after eating.\n",
      "Sentence ID = ARTHROTEC.80_515.txt\n",
      "Count of word is =  0\n",
      "\n",
      "\n",
      "Sentence = I developed severe abdominal pains, severe welts all over my legs from feet up to knees, swelling of throat, rapid heart beat and headaches.\n",
      "Sentence ID = ARTHROTEC.83_529.txt\n",
      "Count of word is =  0\n",
      "\n",
      "\n",
      "Sentence = If I miss a day, headaches begin to creep in.\n",
      "Sentence ID = ARTHROTEC.93_583.txt\n",
      "Count of word is =  0\n",
      "\n",
      "\n"
     ]
    }
   ],
   "source": [
    "w = input('Enter a word: '); # created to ruturn a work entry field - any word can be entered\n",
    "for String in column2:\n",
    "    String.split()\n",
    "    if w in String:\n",
    "        print('Sentence = ' + String)\n",
    "        print('Sentence ID = ' + column1[column2.index(String)])\n",
    "        print('Count of word is = ', sum(w == column2 for column2 in String.split()))\n",
    "        print('\\n') # separate a line in between different output"
   ]
  },
  {
   "cell_type": "markdown",
   "metadata": {},
   "source": [
    "# Question 3 starts below:"
   ]
  },
  {
   "cell_type": "markdown",
   "metadata": {},
   "source": [
    "## Solution 3(1)"
   ]
  },
  {
   "cell_type": "code",
   "execution_count": 10,
   "metadata": {},
   "outputs": [
    {
     "name": "stdout",
     "output_type": "stream",
     "text": [
      "[303, 795, 1404, 1565, 2622, 5091]\n"
     ]
    }
   ],
   "source": [
    "path = ('C:\\Assignment2_denton_housing.csv') # from my directory on C drive where I save the csv file\n",
    "import pandas\n",
    "columnnames = ['year', 'title_field', 'value']\n",
    "data = pandas.read_csv(path, names=columnnames)\n",
    "\n",
    "years = list(data['year'])[1:]\n",
    "years = [ int(x) for x in years ]\n",
    "values = list(data['value'])[1:]\n",
    "values = [ int(x) for x in values ]\n",
    "\n",
    "total =[]\n",
    "vacant = []\n",
    "occupied = []\n",
    "\n",
    "for n in set(years):\n",
    "    total.append(values[years.index(n)])\n",
    "    vacant.append(values[years.index(n) +1])\n",
    "    occupied.append(values[years.index(n) +2])\n",
    "    diff = [abs(j-i) for i, j in zip(occupied[:-1], occupied[1:])] # Calculate the difference\n",
    "diff.sort() # Sort output in ascending order\n",
    "print(diff) # To print output in ascending order - Question 3(1)"
   ]
  },
  {
   "cell_type": "markdown",
   "metadata": {},
   "source": [
    "## Solution 3(2)"
   ]
  },
  {
   "cell_type": "code",
   "execution_count": 16,
   "metadata": {},
   "outputs": [
    {
     "name": "stdout",
     "output_type": "stream",
     "text": [
      "Year   Vacant Housing Units      Occupied Housing Units   \n",
      "2008    11 %                       89 %    \n",
      "2009    9 %                       91 %    \n",
      "2010    8 %                       92 %    \n",
      "2011    9 %                       91 %    \n",
      "2012    7 %                       93 %    \n",
      "2013    9 %                       91 %    \n",
      "2014    6 %                       94 %    \n"
     ]
    }
   ],
   "source": [
    "print('Year   '  + 'Vacant Housing Units      ' + 'Occupied Housing Units   ')\n",
    "for a in range(0, len(total)):\n",
    "    b, c, d, y = total[a], vacant[a], occupied[a], list(set(years))[a]\n",
    "    print('{}    '.format(round(y))  + '{} %                       '.format(round(c*100/b)) + '{} %    '.format(round(d*100/b)))"
   ]
  },
  {
   "cell_type": "markdown",
   "metadata": {},
   "source": [
    "## Solution 3(3)"
   ]
  },
  {
   "cell_type": "code",
   "execution_count": 17,
   "metadata": {},
   "outputs": [
    {
     "name": "stdout",
     "output_type": "stream",
     "text": [
      "                         Year      Value    \n",
      "Vacant Housing Units     2008      4483\n",
      "Occupied Housing Units   2014      46295\n"
     ]
    }
   ],
   "source": [
    "print('                         '  + 'Year      ' + 'Value    ')\n",
    "\n",
    "heighestVac = max(vacant)\n",
    "heightOcc = max(occupied) \n",
    "print('Vacant Housing Units     ' + '{}      '.format(list(set(years))[vacant.index(max(vacant))]) + '{}'.format(heighestVac))\n",
    "print('Occupied Housing Units   ' + '{}      '.format(list(set(years))[occupied.index(max(occupied))]) + '{}'.format(heightOcc))"
   ]
  },
  {
   "cell_type": "markdown",
   "metadata": {},
   "source": [
    "## Solution 3(4)"
   ]
  },
  {
   "cell_type": "code",
   "execution_count": 19,
   "metadata": {},
   "outputs": [
    {
     "name": "stdout",
     "output_type": "stream",
     "text": [
      "[41194, 39499, 44642, 44917, 45121, 47888, 49109]\n"
     ]
    }
   ],
   "source": [
    "# Firstly, I want to show the output of the total housing units and print out\n",
    "total_housing = [i for i in (total[0:])]\n",
    "print(total_housing)    "
   ]
  },
  {
   "cell_type": "code",
   "execution_count": 23,
   "metadata": {},
   "outputs": [
    {
     "name": "stdout",
     "output_type": "stream",
     "text": [
      "44398.28543969185\n"
     ]
    }
   ],
   "source": [
    "# Then I would calculate the Harmonic Mean using the (Count (n)/(Sum of inverse of total_house)^(-1))\n",
    "\n",
    "list_all = []\n",
    "n = len(total_housing)\n",
    "\n",
    "for s in total:\n",
    "    list_all.append(1/s)\n",
    "hMean = n/(sum(list_all))\n",
    "\n",
    "print(hMean)"
   ]
  },
  {
   "cell_type": "code",
   "execution_count": 25,
   "metadata": {},
   "outputs": [
    {
     "name": "stdout",
     "output_type": "stream",
     "text": [
      "44398.28543969185\n"
     ]
    }
   ],
   "source": [
    "# I also got a method to calculate the Harmonic Mean using the statistics library - See the code below:\n",
    "\n",
    "import statistics\n",
    "\n",
    "total_housing = [i for i in (total[0:])]\n",
    "hMean = (statistics.harmonic_mean(total_housing))\n",
    "\n",
    "print(hMean)"
   ]
  },
  {
   "cell_type": "markdown",
   "metadata": {},
   "source": [
    "# The End"
   ]
  },
  {
   "cell_type": "code",
   "execution_count": null,
   "metadata": {},
   "outputs": [],
   "source": []
  }
 ],
 "metadata": {
  "kernelspec": {
   "display_name": "Python 3",
   "language": "python",
   "name": "python3"
  },
  "language_info": {
   "codemirror_mode": {
    "name": "ipython",
    "version": 3
   },
   "file_extension": ".py",
   "mimetype": "text/x-python",
   "name": "python",
   "nbconvert_exporter": "python",
   "pygments_lexer": "ipython3",
   "version": "3.7.3"
  }
 },
 "nbformat": 4,
 "nbformat_minor": 2
}
