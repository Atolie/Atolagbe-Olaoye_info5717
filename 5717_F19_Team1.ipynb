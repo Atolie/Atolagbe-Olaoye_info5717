{
 "cells": [
  {
   "cell_type": "code",
   "execution_count": 1,
   "metadata": {},
   "outputs": [],
   "source": [
    "import mysql.connector\n",
    "import csv"
   ]
  },
  {
   "cell_type": "code",
   "execution_count": 2,
   "metadata": {},
   "outputs": [],
   "source": [
    "# Connection with Mysql\n",
    "mydb = mysql.connector.connect(\n",
    "  host=\"localhost\",\n",
    "  user=\"root\",\n",
    "  password=\"Atolagbe19\",\n",
    "  database=\"Mysql\"\n",
    ")"
   ]
  },
  {
   "cell_type": "code",
   "execution_count": 3,
   "metadata": {},
   "outputs": [],
   "source": [
    "mycursor = mydb.cursor()\n",
    "\n",
    "mycursor.execute(\"DROP TABLE IF EXISTS `mental_health_problem`\")\n",
    "mycursor.execute(\"CREATE TABLE mental_health_problem (mhp_id INT AUTO_INCREMENT PRIMARY KEY REFERENCES resources(mhp_id)\\\n",
    "                         ,type VARCHAR(255)\\\n",
    "                         ,description VARCHAR(500)\\\n",
    "                         ,symptom varchar(500))\")\n",
    "                            "
   ]
  },
  {
   "cell_type": "code",
   "execution_count": 4,
   "metadata": {},
   "outputs": [
    {
     "name": "stdout",
     "output_type": "stream",
     "text": [
      "[['ADHD', 'ADHD can make it difficult to stay on top of the multiple tasks of daily life, especially complex tasks that require organization, planning, and sustained focus. But while ADHD can be challenging, it doesn’t have to derail your life.', 'Has trouble staying focused; is easily distracted or gets bored with a task before it’s completed, Appears not to listen when spoken to, Has difficulty remembering things and following instructions; doesn’t pay attention to details or makes careless mistakes, Has trouble staying organized, planning ahead, and finishing projects, Frequently loses or misplaces homework, books, toys, or other items'], ['Addictions and Substance Use', 'When you’re stuck in the cycle of addiction, recovery can seem out of reach. But no matter how powerless you feel, change is possible with the right treatment and support.', 'Feel guilty or ashamed about your drinking, Lie to others or hide your drinking habits, Need to drink in order to relax or feel better, “Black out” or forget what you did while you were drinking, Neglecting responsibilities at school, work, or home, Experiencing legal trouble, such as arrests for disorderly conduct, Your life revolves around drug use, You continue to use drugs, despite knowing it’s hurting you, etc.'], ['Anxiety', 'Anxiety can help you to stay focused under pressure. But when worries, fears, or panic attacks start to get in the way of your life, there are many things you can do to gain peace of mind and take back control.', 'Feelings of apprehension or dread, Watching for signs of danger, Anticipating the worst, Trouble concentrating, Feeling tense and jumpy, Pounding heart, Sweating, Headaches, Stomach upset, Dizziness, Frequent urination or diarrhea, Shortness of breath, Muscle tension or twitches, Shaking or trembling, Insomnia'], ['Bipolar Disorder', \"The extreme highs and lows of bipolar disorder can interfere with work, school, relationships, and your daily life. But you're not powerless.\", 'Feeling unusually “high” and optimistic OR extremely irritable, Unrealistic, grandiose beliefs about one’s abilities or powers, Sleeping very little, but feeling extremely energetic, Talking so rapidly that others can’t keep up, Racing thoughts; jumping quickly from one idea to the next, Highly distractible, unable to concentrate, Impaired judgment and impulsiveness, Acting recklessly without thinking about the consequences, Delusions and hallucinations (in severe cases)'], ['Depression', \"Depression can make you feel sad, mad, or empty and numb, but there's a lot you can do to start to feel more positive, happy, and energetic again.\", 'Feelings of helplessness and hopelessness, Loss of interest in daily activities, Appetite or weight changes, Sleep Changes, Anger orr irritability, Loss of energy, Self-loathing, Concentration problems, etc.'], ['Eating Disorders', 'While the symptoms of eating disorders revolve around eating, they are more about coping with feelings than they are about food. If you have an eating disorder, you may believe that being thin is the key to being happy, or that if you can control what you eat, you’ll be able to control your life. But the truth is that happiness, confidence, and self-empowerment come from accepting yourself for who you truly are—and that’s only possible with recovery.', 'Dieting despite being thin, Obsession with calories, fat grams, and nutrition,Inability to stop eating or control what you’re eating, Rapidly eating large amounts of food, Eating even when you’re full, Hiding or stockpiling food to eat later in secret, etc.'], ['PTSD and Trauma', 'Whether it stems from a personal tragedy, natural disaster, violence, or any other type of disturbing event, trauma can take a huge emotional toll. And while there is no right or wrong way to feel after a traumatic event, there are strategies that can help you work through feelings of pain, fear, and grief and regain your emotional balance. Whether the traumatic event happened years ago or yesterday, you can find a way to heal and move on with your life.', 'Sleep problems and nightmares, Somber, compulsive play in which themes or aspects of the trauma are repeated, New phobias and anxieties that seem unrelated to the trauma (such as fear of monsters), Acting out the trauma through play, stories, or drawings, Aches and pains with no apparent cause, Irritability and aggression, etc.'], ['Stress', 'In today’s fast-paced world, chronic stress is common, but your mind and body pay a high price. Learn the signs, symptoms, and causes of stress—and what you can do about it.', 'Memory problems, Inability to concentrate, Poor judgment, Aches and pains, etc.'], [' '], ['      ']]\n"
     ]
    }
   ],
   "source": [
    "import csv\n",
    "\n",
    "with open(\"C:\\CTS1_MentalHealthProblems.txt\", encoding=\"utf8\") as textfile: \n",
    "    csvreader = csv.reader(textfile, delimiter = \"\\t\")\n",
    "    csvdata = []\n",
    "    for row in csvreader:\n",
    "        csvdata.append(row)\n",
    "print(csvdata)\n"
   ]
  },
  {
   "cell_type": "code",
   "execution_count": 5,
   "metadata": {},
   "outputs": [
    {
     "data": {
      "text/plain": [
       "True"
      ]
     },
     "execution_count": 5,
     "metadata": {},
     "output_type": "execute_result"
    }
   ],
   "source": [
    "for row in csvdata:\n",
    "    if len(row)>=3:\n",
    "        data = [row[0],row[1],row[2]]\n",
    "        mycursor.execute(\"INSERT INTO mental_health_problem (type,description,symptom) VALUES (%s, %s, %s)\", data)\n",
    "\n",
    "mydb.commit()\n",
    "mycursor.close()\n"
   ]
  },
  {
   "cell_type": "code",
   "execution_count": 6,
   "metadata": {},
   "outputs": [],
   "source": [
    "import mysql.connector\n",
    "import csv"
   ]
  },
  {
   "cell_type": "code",
   "execution_count": 7,
   "metadata": {},
   "outputs": [],
   "source": [
    "# Connection with Mysql\n",
    "mydb = mysql.connector.connect(\n",
    "  host=\"localhost\",\n",
    "  user=\"root\",\n",
    "  password=\"Atolagbe19\",\n",
    "  database=\"Mysql\"\n",
    ")"
   ]
  },
  {
   "cell_type": "code",
   "execution_count": 8,
   "metadata": {},
   "outputs": [],
   "source": [
    "mycursor = mydb.cursor()\n",
    "\n",
    "mycursor.execute(\"DROP TABLE IF EXISTS `resources`\")\n",
    "mycursor.execute(\"CREATE TABLE resources (r_id INT AUTO_INCREMENT PRIMARY KEY REFERENCES resources_type(r_id)\\\n",
    "                         ,r_category VARCHAR(128)\\\n",
    "                         ,r_description VARCHAR(500)\\\n",
    "                         ,r_phone VARCHAR(128)\\\n",
    "                         ,r_location VARCHAR(255))\")"
   ]
  },
  {
   "cell_type": "code",
   "execution_count": 9,
   "metadata": {},
   "outputs": [
    {
     "name": "stdout",
     "output_type": "stream",
     "text": [
      "[['Mental Health and Wellness', 'PsychCentral,Medication Library,Depression Central,Ask Alice and the Healthwise, QueenDom.Com, Recovery.org, Quit Smoking Community, Quit Smoking Community', '\\\\N', '\\\\N'], ['Eating Disorders', 'Help a friend,Something Fishy.org', '\\\\N', '\\\\N'], ['Career Counseling', '\\\\N', '\\\\N', '\\\\N'], ['Study Skills', 'The UNT Learning Center', '940-369-7006', 'Sage Hall, Room 170. '], ['Additional Therapy Options', '\\\\N', '\\\\N', 'http://affordablecounseling.info/tx/']]\n"
     ]
    }
   ],
   "source": [
    "import csv\n",
    "\n",
    "with open(\"C:\\CTS2_Resources.txt\", encoding=\"utf8\") as textfile: \n",
    "    csvreader = csv.reader(textfile, delimiter = \"\\t\")\n",
    "    csvdata = []\n",
    "    for row in csvreader:\n",
    "        csvdata.append(row)\n",
    "print(csvdata)"
   ]
  },
  {
   "cell_type": "code",
   "execution_count": 10,
   "metadata": {},
   "outputs": [
    {
     "data": {
      "text/plain": [
       "True"
      ]
     },
     "execution_count": 10,
     "metadata": {},
     "output_type": "execute_result"
    }
   ],
   "source": [
    "for row in csvdata:\n",
    "    if len(row)>=4:\n",
    "        data = [row[0],row[1],row[2],row[3]]\n",
    "        mycursor.execute(\"INSERT INTO resources (r_category,r_description,r_phone,r_location) VALUES (%s, %s, %s, %s)\", data)\n",
    "\n",
    "mydb.commit()\n",
    "mycursor.close()\n"
   ]
  },
  {
   "cell_type": "code",
   "execution_count": 11,
   "metadata": {},
   "outputs": [],
   "source": [
    "import mysql.connector\n",
    "import csv"
   ]
  },
  {
   "cell_type": "code",
   "execution_count": 12,
   "metadata": {},
   "outputs": [],
   "source": [
    "# Connection with Mysql\n",
    "mydb = mysql.connector.connect(\n",
    "  host=\"localhost\",\n",
    "  user=\"root\",\n",
    "  password=\"Atolagbe19\",\n",
    "  database=\"Mysql\"\n",
    ")"
   ]
  },
  {
   "cell_type": "code",
   "execution_count": 13,
   "metadata": {},
   "outputs": [],
   "source": [
    "mycursor = mydb.cursor()\n",
    "\n",
    "mycursor.execute(\"DROP TABLE IF EXISTS `resources_type`\")\n",
    "mycursor.execute(\"CREATE TABLE resources_type (rt_id INT AUTO_INCREMENT PRIMARY KEY\\\n",
    "                         ,rt_category VARCHAR(128)\\\n",
    "                         ,rt_phone VARCHAR(128)\\\n",
    "                         ,rt_email VARCHAR(128)\\\n",
    "                         ,rt_officehours VARCHAR(128)\\\n",
    "                         ,rt_website VARCHAR(255))\")"
   ]
  },
  {
   "cell_type": "code",
   "execution_count": 14,
   "metadata": {},
   "outputs": [
    {
     "name": "stdout",
     "output_type": "stream",
     "text": [
      "[['Counseling & Testing FAQs', '940-565-2741', 'counselingandtestingservices@unt.edu', 'Monday - Friday: 8 am to 5 pm', 'https://studentaffairs.unt.edu/counseling-and-testing-services/resources-and-self-help/faq'], ['Counseling Education & Workshops', '940-565-2741', 'counselingandtestingservices@unt.edu', 'Monday - Friday: 8 am to 5 pm', 'https://studentaffairs.unt.edu/counseling-and-testing-services/resources-and-self-help/counseling-education-and-self-help'], ['Counseling Resources for Faculty & Staff', '940-565-2741', 'counselingandtestingservices@unt.edu', 'Monday - Friday: 8 am to 5 pm', 'https://studentaffairs.unt.edu/counseling-and-testing-services/resources-and-self-help/counseling-resources-for-faculty-and-staff'], ['Counseling Resources for Parents', '940-565-2741', 'counselingandtestingservices@unt.edu', 'Monday - Friday: 8 am to 5 pm', 'https://studentaffairs.unt.edu/counseling-and-testing-services/resources-and-self-help/counseling-resources-for-parents'], ['Diversity-Related Resources', '940-565-2741', 'counselingandtestingservices@unt.edu', 'Monday - Friday: 8 am to 5 pm', 'https://studentaffairs.unt.edu/counseling-and-testing-services/resources-and-self-help/diversity-related-resources'], ['Self-Help Resources', '940-565-2741', 'counselingandtestingservices@unt.edu', 'Monday - Friday: 8 am to 5 pm', 'https://studentaffairs.unt.edu/counseling-and-testing-services/resources-and-self-help/self-help-resources'], ['Initial Appointment', '940-565-2741', 'counselingandtestingservices@unt.edu', 'Monday - Friday: 8 am to 5 pm', 'https://studentaffairs.unt.edu/counseling-and-testing-services/resources-and-self-help/making-an-initial-appointment']]\n"
     ]
    }
   ],
   "source": [
    "import csv\n",
    "\n",
    "with open(\"C:\\CTS3_ResourcesType.txt\", encoding=\"utf8\") as textfile: \n",
    "    csvreader = csv.reader(textfile, delimiter = \"\\t\")\n",
    "    csvdata = []\n",
    "    for row in csvreader:\n",
    "        csvdata.append(row)\n",
    "print(csvdata)"
   ]
  },
  {
   "cell_type": "code",
   "execution_count": 15,
   "metadata": {},
   "outputs": [
    {
     "data": {
      "text/plain": [
       "True"
      ]
     },
     "execution_count": 15,
     "metadata": {},
     "output_type": "execute_result"
    }
   ],
   "source": [
    "for row in csvdata:\n",
    "    if len(row)>=5:\n",
    "        data = [row[0],row[1],row[2],row[3],row[4]]\n",
    "        mycursor.execute(\"INSERT INTO resources_type (rt_category,rt_phone,rt_email,rt_officehours,rt_website) VALUES (%s, %s, %s, %s, %s)\", data)\n",
    "\n",
    "mydb.commit()\n",
    "mycursor.close()"
   ]
  },
  {
   "cell_type": "code",
   "execution_count": 16,
   "metadata": {},
   "outputs": [],
   "source": [
    "import mysql.connector\n",
    "import csv"
   ]
  },
  {
   "cell_type": "code",
   "execution_count": 17,
   "metadata": {},
   "outputs": [],
   "source": [
    "# Connection with Mysql\n",
    "mydb = mysql.connector.connect(\n",
    "  host=\"localhost\",\n",
    "  user=\"root\",\n",
    "  password=\"Atolagbe19\",\n",
    "  database=\"Mysql\"\n",
    ")"
   ]
  },
  {
   "cell_type": "code",
   "execution_count": 18,
   "metadata": {},
   "outputs": [],
   "source": [
    "mycursor = mydb.cursor()\n",
    "\n",
    "mycursor.execute(\"DROP TABLE IF EXISTS `service`\")\n",
    "mycursor.execute(\"CREATE TABLE service (serviceid INT AUTO_INCREMENT PRIMARY KEY\\\n",
    "                         ,servicetype VARCHAR(128))\")"
   ]
  },
  {
   "cell_type": "code",
   "execution_count": 19,
   "metadata": {},
   "outputs": [
    {
     "name": "stdout",
     "output_type": "stream",
     "text": [
      "[['Animal-Assisted Therapy'], ['Career/Vocational Counseling'], ['Eating Disorder Resources'], ['Healing Arts Showcase'], ['Individual Therapy'], ['Liaisonships'], ['Outreach Programming'], ['Therapy Assistance Online'], ['Training Program']]\n"
     ]
    }
   ],
   "source": [
    "import csv\n",
    "\n",
    "with open(\"C:\\CTS4_Services.txt\", encoding=\"utf8\") as textfile: \n",
    "    csvreader = csv.reader(textfile, delimiter = \"\\t\")\n",
    "    csvdata = []\n",
    "    for row in csvreader:\n",
    "        csvdata.append(row)\n",
    "print(csvdata)"
   ]
  },
  {
   "cell_type": "code",
   "execution_count": 20,
   "metadata": {},
   "outputs": [
    {
     "data": {
      "text/plain": [
       "True"
      ]
     },
     "execution_count": 20,
     "metadata": {},
     "output_type": "execute_result"
    }
   ],
   "source": [
    "for row in csvdata:\n",
    "    if len(row)>=1:\n",
    "        data = [row[0]]\n",
    "        mycursor.execute(\"INSERT INTO service (servicetype) VALUES (%s)\", data)\n",
    "\n",
    "mydb.commit()\n",
    "mycursor.close()"
   ]
  },
  {
   "cell_type": "code",
   "execution_count": 21,
   "metadata": {},
   "outputs": [],
   "source": [
    "import mysql.connector\n",
    "import csv"
   ]
  },
  {
   "cell_type": "code",
   "execution_count": 22,
   "metadata": {},
   "outputs": [],
   "source": [
    "# Connection with Mysql\n",
    "mydb = mysql.connector.connect(\n",
    "  host=\"localhost\",\n",
    "  user=\"root\",\n",
    "  password=\"Atolagbe19\",\n",
    "  database=\"Mysql\"\n",
    ")"
   ]
  },
  {
   "cell_type": "code",
   "execution_count": 23,
   "metadata": {},
   "outputs": [],
   "source": [
    "mycursor = mydb.cursor()\n",
    "\n",
    "mycursor.execute(\"DROP TABLE IF EXISTS `contacts`\")\n",
    "mycursor.execute(\"CREATE TABLE contacts (contactid INT AUTO_INCREMENT PRIMARY KEY\\\n",
    "                         ,c_category VARCHAR(128)\\\n",
    "                         ,c_phone VARCHAR(128)\\\n",
    "                         ,c_email VARCHAR(128)\\\n",
    "                         ,physicallocation VARCHAR(128)\\\n",
    "                         ,mail VARCHAR(128)\\\n",
    "                         ,c_officehours VARCHAR(128)\\\n",
    "                         ,web VARCHAR(128))\")"
   ]
  },
  {
   "cell_type": "code",
   "execution_count": 24,
   "metadata": {},
   "outputs": [
    {
     "name": "stdout",
     "output_type": "stream",
     "text": [
      "[['Counseling services contacts', '940-565-2741 ', 'counselingandtestingservices@unt.edu', 'Chestnut Hall, Suite 311', 'P.O. Box 310968, Denton, TX 76203', 'Monday to Friday: 8AM - 5PM', 'https://studentaffairs.unt.edu/counseling-and-testing-services/contact'], ['Emergency contacts', '940-565-2741', '\\\\N', '\\\\N', '\\\\N', '\\\\N', 'https://studentaffairs.unt.edu/counseling-and-testing-services'], ['LIFE-THREATENING EMERGENCY', '911', '\\\\N', '\\\\N', '\\\\N', '\\\\N', '\\\\N'], ['UNT Mental Health Emergency Contacts', '940-565-2741 ', '\\\\N', '\\\\N', '\\\\N', 'Monday to Friday: 8AM - 5PM', '\\\\N'], ['Denton County MHMR Crisis Line', '1 (800) 762-0157', '\\\\N', '\\\\N', '\\\\N', '\\\\N', '\\\\N'], ['Family Violence Shelter/ Denton Co. Friends of the Family', '(940) 382-7273', '\\\\N', '\\\\N', '\\\\N', '\\\\N', '\\\\N'], ['National Suicide Prevention Hotline', '1 (800) 273-8255', '\\\\N', '\\\\N', '\\\\N', '\\\\N', '\\\\N'], ['Crisis Text Line Website', '\\\\N', '\\\\N', '\\\\N', '\\\\N', '\\\\N', 'http://www.crisistextline.org'], ['Non-Crisis', '(940) 387-5131', '\\\\N', '\\\\N', '\\\\N', '\\\\N', '\\\\N'], ['Live Chat', '\\\\N', '\\\\N', '\\\\N', '\\\\N', '\\\\N', 'http://www.suicidepreventionlifeline.org']]\n"
     ]
    }
   ],
   "source": [
    "import csv\n",
    "\n",
    "with open(\"C:\\CTS5_Contacts.txt\", encoding=\"utf8\") as textfile: \n",
    "    csvreader = csv.reader(textfile, delimiter = \"\\t\")\n",
    "    csvdata = []\n",
    "    for row in csvreader:\n",
    "        csvdata.append(row)\n",
    "print(csvdata)"
   ]
  },
  {
   "cell_type": "code",
   "execution_count": 25,
   "metadata": {},
   "outputs": [
    {
     "data": {
      "text/plain": [
       "True"
      ]
     },
     "execution_count": 25,
     "metadata": {},
     "output_type": "execute_result"
    }
   ],
   "source": [
    "for row in csvdata:\n",
    "    if len(row)>=5:\n",
    "        data = [row[0],row[1],row[2],row[3],row[4],row[5],row[6]]\n",
    "        mycursor.execute(\"INSERT INTO contacts (c_category,c_phone,c_email,physicallocation,mail,c_officehours,web) VALUES (%s, %s, %s, %s, %s, %s, %s)\", data)\n",
    "\n",
    "mydb.commit()\n",
    "mycursor.close()"
   ]
  },
  {
   "cell_type": "code",
   "execution_count": 26,
   "metadata": {},
   "outputs": [],
   "source": [
    "import mysql.connector\n",
    "import csv"
   ]
  },
  {
   "cell_type": "code",
   "execution_count": 27,
   "metadata": {},
   "outputs": [],
   "source": [
    "# Connection with Mysql\n",
    "mydb = mysql.connector.connect(\n",
    "  host=\"localhost\",\n",
    "  user=\"root\",\n",
    "  password=\"Atolagbe19\",\n",
    "  database=\"Mysql\"\n",
    ")"
   ]
  },
  {
   "cell_type": "code",
   "execution_count": 28,
   "metadata": {},
   "outputs": [],
   "source": [
    "mycursor = mydb.cursor()\n",
    "\n",
    "mycursor.execute(\"DROP TABLE IF EXISTS `counselor`\")\n",
    "mycursor.execute(\"CREATE TABLE counselor (counselor_id INT AUTO_INCREMENT PRIMARY KEY\\\n",
    "                         ,firstname VARCHAR(128)\\\n",
    "                         ,lastname VARCHAR(128)\\\n",
    "                         ,qualification VARCHAR(64)\\\n",
    "                         ,role VARCHAR(64)\\\n",
    "                         ,position VARCHAR(128))\")"
   ]
  },
  {
   "cell_type": "code",
   "execution_count": 29,
   "metadata": {},
   "outputs": [
    {
     "name": "stdout",
     "output_type": "stream",
     "text": [
      "[['Tamara', 'Knapp-Grosz', 'Ph.D.', 'Licensed Psychologist', 'Senior Director of Counseling and Testing Services'], ['Arlene', 'Rivero', 'Ph.D.', 'Licensed Psychologist', 'Assistant Director of Training'], ['Bethany', 'Evans', 'Psy.D.', 'Licensed Psychologist', 'Clinical Director'], ['Sze Sze', 'Tong', 'Ph.D.', 'Licensed Psychologist', 'Associate Director of Testing Services & Special Projects/Coordinator of Embedded & Satellite Programs'], ['Jasmaine', 'Cash', 'LMSW', 'Licensed Master Social Worker', 'Counselor'], ['Enedelia', 'Sauceda', 'Ph.D.', 'Licensed Psychologist', 'Multicultural Coordinator/Liaison for Multicultural Center and Pride Alliance'], ['Myriam ', 'Reynolds', 'LPC', 'Counselor', 'Counselor'], ['Pam', 'Flint', 'Ph.D.', 'Licensed Psychologist', 'Part-Time UNT Frisco Campus'], ['Steffanie', 'Grossman', 'Ph.D.', 'Licensed Psychologist', \"Group and Outreach Coordinator/Eating Disorders and Body Image Services Specialist/Liaison for Women's Chapters of Greek Life\"], []]\n"
     ]
    }
   ],
   "source": [
    "import csv\n",
    "\n",
    "with open(\"C:\\CTS6_Counselors.txt\", encoding=\"utf8\") as textfile: \n",
    "    csvreader = csv.reader(textfile, delimiter = \"\\t\")\n",
    "    csvdata = []\n",
    "    for row in csvreader:\n",
    "        csvdata.append(row)\n",
    "print(csvdata)"
   ]
  },
  {
   "cell_type": "code",
   "execution_count": 30,
   "metadata": {},
   "outputs": [
    {
     "data": {
      "text/plain": [
       "True"
      ]
     },
     "execution_count": 30,
     "metadata": {},
     "output_type": "execute_result"
    }
   ],
   "source": [
    "for row in csvdata:\n",
    "    if len(row)>=5:\n",
    "        data = [row[0],row[1],row[2],row[3],row[4]]\n",
    "        mycursor.execute(\"INSERT INTO counselor (firstname,lastname,qualification,role,position) VALUES (%s, %s, %s, %s, %s)\", data)\n",
    "\n",
    "mydb.commit()\n",
    "mycursor.close()"
   ]
  },
  {
   "cell_type": "code",
   "execution_count": 31,
   "metadata": {},
   "outputs": [],
   "source": [
    "import mysql.connector\n",
    "\n",
    "mydb = mysql.connector.connect(\n",
    "  host=\"localhost\",\n",
    "  user=\"root\",\n",
    "  password=\"Atolagbe19\",\n",
    "  database=\"Mysql\"\n",
    ")\n"
   ]
  },
  {
   "cell_type": "code",
   "execution_count": 32,
   "metadata": {},
   "outputs": [],
   "source": [
    "mycursor = mydb.cursor()"
   ]
  },
  {
   "cell_type": "code",
   "execution_count": 33,
   "metadata": {},
   "outputs": [
    {
     "name": "stdout",
     "output_type": "stream",
     "text": [
      "('Memory problems, Inability to concentrate, Poor judgment, Aches and pains, etc.',)\n"
     ]
    }
   ],
   "source": [
    "mycursor.execute(\"SELECT symptom FROM mental_health_problem WHERE type ='Stress'\") \n",
    "\n",
    "myresult = mycursor.fetchall()\n",
    "\n",
    "for x in myresult:\n",
    "  print(x)\n"
   ]
  },
  {
   "cell_type": "code",
   "execution_count": 34,
   "metadata": {},
   "outputs": [
    {
     "name": "stdout",
     "output_type": "stream",
     "text": [
      "('https://studentaffairs.unt.edu/counseling-and-testing-services/resources-and-self-help/counseling-resources-for-parents',)\n"
     ]
    }
   ],
   "source": [
    "mycursor.execute(\"SELECT rt_website FROM resources_type WHERE rt_category LIKE '%parents'\") \n",
    "\n",
    "myresult = mycursor.fetchall()\n",
    "\n",
    "for x in myresult:\n",
    "  print(x)"
   ]
  },
  {
   "cell_type": "code",
   "execution_count": 35,
   "metadata": {},
   "outputs": [
    {
     "name": "stdout",
     "output_type": "stream",
     "text": [
      "(1, 'Animal-Assisted Therapy')\n",
      "(2, 'Career/Vocational Counseling')\n",
      "(3, 'Eating Disorder Resources')\n",
      "(4, 'Healing Arts Showcase')\n",
      "(5, 'Individual Therapy')\n",
      "(6, 'Liaisonships')\n",
      "(7, 'Outreach Programming')\n",
      "(8, 'Therapy Assistance Online')\n",
      "(9, 'Training Program')\n"
     ]
    }
   ],
   "source": [
    "mycursor.execute(\"SELECT * FROM service ORDER BY servicetype\") \n",
    "\n",
    "myresult = mycursor.fetchall()\n",
    "\n",
    "for x in myresult:\n",
    "  print(x)"
   ]
  },
  {
   "cell_type": "code",
   "execution_count": 36,
   "metadata": {},
   "outputs": [
    {
     "name": "stdout",
     "output_type": "stream",
     "text": [
      "('Tamara', 'Knapp-Grosz')\n",
      "('Arlene', 'Rivero')\n",
      "('Sze Sze', 'Tong')\n",
      "('Enedelia', 'Sauceda')\n",
      "('Pam', 'Flint')\n",
      "('Steffanie', 'Grossman')\n"
     ]
    }
   ],
   "source": [
    "mycursor.execute(\"SELECT firstname, lastname FROM counselor WHERE qualification = 'Ph.D.'\") \n",
    "\n",
    "myresult = mycursor.fetchall()\n",
    "\n",
    "for x in myresult:\n",
    "  print(x)"
   ]
  },
  {
   "cell_type": "code",
   "execution_count": 37,
   "metadata": {},
   "outputs": [
    {
     "name": "stdout",
     "output_type": "stream",
     "text": [
      "('Study Skills',)\n",
      "('Mental Health and Wellness',)\n",
      "('Eating Disorders',)\n",
      "('Career Counseling',)\n",
      "('Additional Therapy Options',)\n"
     ]
    }
   ],
   "source": [
    "mycursor.execute(\"SELECT r_category FROM resources ORDER BY r_category DESC\") \n",
    "\n",
    "myresult = mycursor.fetchall()\n",
    "\n",
    "for x in myresult:\n",
    "  print(x)"
   ]
  },
  {
   "cell_type": "code",
   "execution_count": 38,
   "metadata": {},
   "outputs": [],
   "source": [
    "import matplotlib.pyplot as plt; plt.rcdefaults()\n",
    "import numpy as np\n",
    "import mysql.connector"
   ]
  },
  {
   "cell_type": "code",
   "execution_count": 39,
   "metadata": {},
   "outputs": [],
   "source": [
    "mydb = mysql.connector.connect(\n",
    "  host=\"localhost\",\n",
    "  user=\"root\",\n",
    "  password=\"Atolagbe19\",\n",
    "  database=\"Mysql\"\n",
    ")"
   ]
  },
  {
   "cell_type": "code",
   "execution_count": 40,
   "metadata": {},
   "outputs": [],
   "source": [
    "mycursor = mydb.cursor()"
   ]
  },
  {
   "cell_type": "code",
   "execution_count": 41,
   "metadata": {},
   "outputs": [
    {
     "name": "stdout",
     "output_type": "stream",
     "text": [
      "('LMSW', 1)\n",
      "('LPC', 1)\n",
      "('Ph.D.', 6)\n",
      "('Psy.D.', 1)\n"
     ]
    }
   ],
   "source": [
    "mycursor.execute(\"SELECT qualification, COUNT(qualification) as profile FROM counselor group by qualification\") \n",
    "\n",
    "myresult = mycursor.fetchall()\n",
    "\n",
    "for x in myresult:\n",
    "  print(x)"
   ]
  },
  {
   "cell_type": "code",
   "execution_count": 42,
   "metadata": {},
   "outputs": [
    {
     "data": {
      "image/png": "[encoded data removed]",
      "text/plain": [
       "<Figure size 432x288 with 1 Axes>"
      ]
     },
     "metadata": {
      "needs_background": "light"
     },
     "output_type": "display_data"
    }
   ],
   "source": [
    "qualification = ('LMSW', 'LPC', 'Ph.D', 'PsyD')\n",
    "y_pos = np.arange(len(qualification))\n",
    "count = [1,1,6,1]\n",
    "\n",
    "plt.bar(y_pos, count, align='center', alpha=0.5)\n",
    "plt.xticks(y_pos, qualification)\n",
    "plt.ylabel('Frequency')\n",
    "plt.title('Counselors qualification')\n",
    "\n",
    "plt.show()"
   ]
  },
  {
   "cell_type": "markdown",
   "metadata": {},
   "source": [
    "# The End!"
   ]
  },
  {
   "cell_type": "code",
   "execution_count": null,
   "metadata": {},
   "outputs": [],
   "source": []
  }
 ],
 "metadata": {
  "kernelspec": {
   "display_name": "Python 3",
   "language": "python",
   "name": "python3"
  },
  "language_info": {
   "codemirror_mode": {
    "name": "ipython",
    "version": 3
   },
   "file_extension": ".py",
   "mimetype": "text/x-python",
   "name": "python",
   "nbconvert_exporter": "python",
   "pygments_lexer": "ipython3",
   "version": "3.7.3"
  }
 },
 "nbformat": 4,
 "nbformat_minor": 2
}
