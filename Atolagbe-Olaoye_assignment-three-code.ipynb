{
 "cells": [
  {
   "cell_type": "markdown",
   "metadata": {},
   "source": [
    "INFO-5717-Assignment-three-code"
   ]
  },
  {
   "cell_type": "markdown",
   "metadata": {},
   "source": [
    "# Question 1 starts below:"
   ]
  },
  {
   "cell_type": "markdown",
   "metadata": {},
   "source": [
    "## Solution 1(1)"
   ]
  },
  {
   "cell_type": "code",
   "execution_count": 3,
   "metadata": {},
   "outputs": [
    {
     "name": "stdout",
     "output_type": "stream",
     "text": [
      "Frequency of the word and the word starting with a vowel:\n",
      "(5, 'in')\n",
      "(5, 'and')\n",
      "(5, 'a')\n",
      "(3, 'of')\n",
      "(2, 'as')\n",
      "(1, 'up')\n",
      "(1, 'until')\n",
      "(1, 'uncle')\n",
      "(1, 'on')\n",
      "(1, 'it')\n",
      "(1, 'imagine')\n",
      "(1, 'ever')\n",
      "(1, 'aunt')\n",
      "(1, 'at')\n",
      "(1, 'asleep')\n",
      "(1, 'ask')\n",
      "(1, 'almost')\n",
      "(1, 'all.')\n",
      "(1, 'all')\n",
      "(1, 'about')\n"
     ]
    }
   ],
   "source": [
    "from typing import List\n",
    "\n",
    "Text = \"\"\"\n",
    "Harry lay in his dark cupboard much later, wishing he had a watch. He didn't know what time it was and he couldn't be sure the Dursleys were asleep yet. Until they were, he couldn't risk sneaking to the kitchen for some food. He'd lived with the Dursleys almost ten years, ten miserable years, as long as he could remember, ever since he'd been a baby and his parents had died in that car crash. He couldn't remember being in the car when his parents \n",
    "had died. Sometimes, when he strained his memory during long hours in his cupboard, he came up with a strange vision: a blinding flash of green light and a burning pain on his forehead.  \n",
    "This, he supposed, was the crash, though he couldn't imagine where all the green light came from. He couldn't remember his parents at all. His aunt and uncle never spoke about them, and of course he was forbidden to ask questions. There were no photographs of them in the house. \"\"\"\n",
    "\n",
    "# this clean text and ser all the worrds to lower cases\n",
    "for char in '-.,\\n':\n",
    "    Text_t = Text.replace(char, ' ')\n",
    "Text_t = Text_t.lower()  # split returns a list of words delimited by sequences of whitespace (including tabs, newlines, etc, like re's \\s)\n",
    "word_list = Text_t.split()\n",
    "\n",
    "vowels = ['a', 'e', 'i', 'o', 'u']\n",
    "\n",
    "# initialize dictionary\n",
    "d = {}\n",
    "\n",
    "# counting number of times each word comes up in list of words (in dictionary)\n",
    "for word in word_list:\n",
    "    if word[0] in vowels:\n",
    "        d[word] = d.get(word, 0) + 1\n",
    "\n",
    "# Next, reverse the key and values so they can be sorted using tuples.\n",
    "\n",
    "word_frequency = []\n",
    "for key, value in d.items():\n",
    "    word_frequency.append((value, key))\n",
    "\n",
    "# Next, sort from highest to lowest\n",
    "\n",
    "word_frequency.sort(reverse = True)\n",
    "\n",
    "print(\"Frequency of the word and the word starting with a vowel:\")\n",
    "\n",
    "for word in word_frequency:\n",
    "    print(word)"
   ]
  },
  {
   "cell_type": "markdown",
   "metadata": {},
   "source": [
    "## Solution 1(2)"
   ]
  },
  {
   "cell_type": "code",
   "execution_count": 6,
   "metadata": {},
   "outputs": [
    {
     "name": "stdout",
     "output_type": "stream",
     "text": [
      "\n",
      "The words with an apostrophe:\n",
      "[\"didn't\", \"couldn't\", \"he'd\"]\n"
     ]
    }
   ],
   "source": [
    "apostrophe_words = [word\n",
    "    for word in word_list\n",
    "        if \"'\" in word]\n",
    "apostrophe_words = list(set(apostrophe_words))\n",
    "print(\"\")\n",
    "print(\"The words with an apostrophe:\")\n",
    "print(apostrophe_words)"
   ]
  },
  {
   "cell_type": "markdown",
   "metadata": {},
   "source": [
    "## Solution 1(3)"
   ]
  },
  {
   "cell_type": "code",
   "execution_count": 7,
   "metadata": {},
   "outputs": [
    {
     "name": "stdout",
     "output_type": "stream",
     "text": [
      "\n",
      "Stopwords:\n",
      "['a', 'about', 'above', 'after', 'again', 'against', 'all', 'am', 'an', 'and', 'any', 'are', \"aren't\", 'as', 'at', 'be', 'because', 'been', 'before', 'being', 'below', 'between', 'both', 'but', 'by', \"can't\", 'cannot', 'could', \"couldn't\", 'did', \"didn't\", 'do', 'does', \"doesn't\", 'doing', \"don't\", 'down', 'during', 'each', 'few', 'for', 'from', 'further', 'had', \"hadn't\", 'has', \"hasn't\", 'have', \"haven't\", 'having', 'he', \"he'd\", \"he'll\", \"he's\", 'her', 'here', \"here's\", 'hers', 'herself', 'him', 'himself', 'his', 'how', \"how's\", 'i', \"i'd\", \"i'll\", \"i'm\", \"i've\", 'if', 'in', 'into', 'is', \"isn't\", 'it', \"it's\", 'its', 'itself', \"let's\", 'me', 'more', 'most', \"mustn't\", 'my', 'myself', 'no', 'nor', 'not', 'of', 'off', 'on', 'once', 'only', 'or', 'other', 'ought', 'our', 'ours', 'ourselves', 'out', 'over', 'own', 'same', \"shan't\", 'she', \"she'd\", \"she'll\", \"she's\", 'should', \"shouldn't\", 'so', 'some', 'such', 'than', 'that', \"that's\", 'the', 'their', 'theirs', 'them', 'themselves', 'then', 'there', \"there's\", 'these', 'they', \"they'd\", \"they'll\", \"they're\", \"they've\", 'this', 'those', 'through', 'to', 'too', 'under', 'until', 'up', 'very', 'was', \"wasn't\", 'we', \"we'd\", \"we'll\", \"we're\", \"we've\", 'were', \"weren't\", 'what', \"what's\", 'when', \"when's\", 'where', \"where's\", 'which', 'while', 'who', \"who's\", 'whom', 'why', \"why's\", 'with', \"won't\", 'would', \"wouldn't\", 'you', \"you'd\", \"you'll\", \"you're\", \"you've\", 'your', 'yours', 'yourself', 'yourselves']\n",
      "\n",
      "The text without stopwords and words with apostrophe:\n",
      "Harry lay dark cupboard much later, wishing watch. know time sure Dursleys asleep yet. were, risk sneaking kitchen food. lived Dursleys almost ten years, ten miserable years, long remember, ever since baby parents died car crash. remember car parents died. Sometimes, strained memory long hours cupboard, came strange vision: blinding flash green light burning pain forehead. This, supposed, crash, though imagine green light came from. remember parents all. aunt uncle never spoke them, course forbidden ask questions. photographs house.\n"
     ]
    }
   ],
   "source": [
    "# Remove all stopwords and words with an apostrophe\n",
    "stopwords = []\n",
    "f = open('C:\\stopwords_list.txt', 'r') # all stopwords located in \"stopwords_list\" text file in my C drive\n",
    "for word in f:\n",
    "    stopwords.append(word.strip('\\n'))\n",
    "\n",
    "print(\"\")\n",
    "print(\"Stopwords:\")\n",
    "print(stopwords)\n",
    "\n",
    "reduced = Text.split()\n",
    "# print(reduced)\n",
    "undict = stopwords + apostrophe_words\n",
    "TextProc = []\n",
    "for j in reduced:\n",
    "     if j.lower() not in undict:\n",
    "           TextProc.append(j)\n",
    "\n",
    "print(\"\")\n",
    "print(\"The text without stopwords and words with apostrophe:\")\n",
    "print(' '.join(TextProc))"
   ]
  },
  {
   "cell_type": "markdown",
   "metadata": {},
   "source": [
    "# Question 2 starts below:"
   ]
  },
  {
   "cell_type": "markdown",
   "metadata": {},
   "source": [
    "## Solution 2(1)"
   ]
  },
  {
   "cell_type": "code",
   "execution_count": 9,
   "metadata": {},
   "outputs": [],
   "source": [
    "# Two csv files were  manually generatteed from the website. The files are: file A = '2011-Jan-June.csv' and\n",
    "# file B = '2018-Jan-June.csv'"
   ]
  },
  {
   "cell_type": "markdown",
   "metadata": {},
   "source": [
    "## Solution 2(2)"
   ]
  },
  {
   "cell_type": "code",
   "execution_count": 64,
   "metadata": {},
   "outputs": [
    {
     "name": "stdout",
     "output_type": "stream",
     "text": [
      "High temperature\n",
      "File name             \t Mean             \t Median   \t Standard deviation\n",
      "C:/2011-Jan-June.csv \t 73.5524861878453 \t 77.0 \t\t 19.39426481394485\n",
      "C:/2018-Jan-June.csv \t 73.06629834254143 \t 73.0 \t\t 17.293095028538204\n",
      "\n",
      "\n",
      "Low temperature\n",
      "File name             \t Mean             \t Median   \t Standard deviation\n",
      "C:/2011-Jan-June.csv \t 50.011049723756905 \t 49.0 \t\t 18.51065427449111\n",
      "C:/2018-Jan-June.csv \t 49.386740331491715 \t 47.0 \t\t 17.64037795274044\n",
      "\n",
      "\n",
      "Precip.\n",
      "File name             \t Mean             \t Median   \t Standard deviation\n",
      "C:/2011-Jan-June.csv \t 0.10585635359116022 \t 0.0 \t\t 0.43081055558868314\n",
      "C:/2018-Jan-June.csv \t 0.08033149171270718 \t 0.0 \t\t 0.30312428795331936\n"
     ]
    }
   ],
   "source": [
    "import csv\n",
    "import statistics as st\n",
    "\n",
    "file_1 = 'C:/2011-Jan-June.csv'  # First file - File A\n",
    "file_2 = 'C:/2018-Jan-June.csv'  # Second file - File B\n",
    "\n",
    "# Read first file to array\n",
    "with open(file_1, newline='') as csv_file_1:\n",
    "    array_1 = list(csv.reader(csv_file_1))\n",
    "\n",
    "# Read second file to array\n",
    "with open(file_2, newline='') as csv_file_2:\n",
    "    array_2 = list(csv.reader(csv_file_2))\n",
    "    \n",
    "str_end = ' '  \n",
    "\n",
    "# Calculate and print results\n",
    "print('High temperature')\n",
    "print('File name            ', '\\t', 'Mean            ' , '\\t', 'Median  ' , '\\t','Standard deviation')\n",
    "print(file_1, end=str_end)\n",
    "print('\\t', st.mean([float(row[1]) for row in array_1]), end=str_end)\n",
    "print('\\t', st.median([float(row[1]) for row in array_1]), end=str_end)\n",
    "print('\\t\\t', st.stdev([float(row[1]) for row in array_1]))\n",
    "print(file_2, end=str_end)\n",
    "print('\\t', st.mean([float(row[1]) for row in array_2]), end=str_end)\n",
    "print('\\t',st.median([float(row[1]) for row in array_2]), end=str_end)\n",
    "print('\\t\\t', st.stdev([float(row[1]) for row in array_2]))\n",
    "\n",
    "print ('\\n')\n",
    "\n",
    "print('Low temperature')\n",
    "print('File name            ', '\\t', 'Mean            ' , '\\t', 'Median  ' , '\\t','Standard deviation')\n",
    "print(file_1, end=str_end)\n",
    "print('\\t', st.mean([float(row[2]) for row in array_1]), end=str_end)\n",
    "print('\\t', st.median([float(row[2]) for row in array_1]), end=str_end)\n",
    "print('\\t\\t', st.stdev([float(row[2]) for row in array_1]))\n",
    "print(file_2, end=str_end)\n",
    "print('\\t', st.mean([float(row[2]) for row in array_2]), end=str_end)\n",
    "print('\\t', st.median([float(row[2]) for row in array_2]), end=str_end)\n",
    "print('\\t\\t', st.stdev([float(row[2]) for row in array_2]))\n",
    "\n",
    "print ('\\n')\n",
    "\n",
    "print('Precip.')\n",
    "print('File name            ', '\\t', 'Mean            ' , '\\t', 'Median  ' , '\\t','Standard deviation')\n",
    "print(file_1, end=str_end)\n",
    "print('\\t', st.mean([float(row[3]) for row in array_1]), end=str_end)\n",
    "print('\\t', st.median([float(row[3]) for row in array_1]), end=str_end)\n",
    "print('\\t\\t', st.stdev([float(row[3]) for row in array_1]))\n",
    "print(file_2, end=str_end)\n",
    "print('\\t', st.mean([float(row[3]) for row in array_2]), end=str_end)\n",
    "print('\\t', st.median([float(row[3]) for row in array_2]), end=str_end)\n",
    "print('\\t\\t', st.stdev([float(row[3]) for row in array_2]))"
   ]
  },
  {
   "cell_type": "markdown",
   "metadata": {},
   "source": [
    "# Question 3 starts below:"
   ]
  },
  {
   "cell_type": "markdown",
   "metadata": {},
   "source": [
    "## Solutions 3(1) and 3(2)"
   ]
  },
  {
   "cell_type": "code",
   "execution_count": 1,
   "metadata": {},
   "outputs": [
    {
     "name": "stdout",
     "output_type": "stream",
     "text": [
      "Enter infomation for 3 students\n",
      "First name: Chris\n",
      "Last name: Garry\n",
      "Middle name: Steve\n",
      "Record for student is created.\n",
      "First name: Anita\n",
      "Last name: Abel\n",
      "Middle name: Betty\n",
      "Record for student is created.\n",
      "First name: Clara\n",
      "Last name: Irvin\n",
      "Middle name: Sarah\n",
      "Record for student is created.\n"
     ]
    }
   ],
   "source": [
    "# Question 3(1)\n",
    "\n",
    "class Student(object):\n",
    "    \"\"\"\n",
    "    Returns a ```Student``` object with the given name, branch and year.\n",
    "\n",
    "    \"\"\"\n",
    "    def __init__(self, FName, LName, MName):\n",
    "            self.FirstName = FName\n",
    "            self.LastName = LName\n",
    "            self.MiddleName = MName\n",
    "            self.ClassesTaken = []\n",
    "            self.euid = \"\"\n",
    "            self.GPA = ()\n",
    "                        \n",
    "            print(\"Record for student is created.\")\n",
    "\n",
    "    def print_details(self):\n",
    "        \"\"\"\n",
    "        Prints the details of the student.\n",
    "        \"\"\"\n",
    "        print(\"Student:\", self.FirstName, \" \", self.MiddleName, \" \", self.LastName )\n",
    "        \n",
    "        \n",
    "    @classmethod     \n",
    "    def from_input(cls):\n",
    "        return cls(\n",
    "            input('First name: '),\n",
    "            input('Last name: '), \n",
    "            input('Middle name: '),\n",
    "        )  \n",
    "    \n",
    "# Question 3(2)\n",
    "\n",
    "Students = {}\n",
    "print(\"Enter infomation for 3 students\")\n",
    "for i in range(3):  \n",
    "    Students[i] = Student.from_input() "
   ]
  },
  {
   "cell_type": "markdown",
   "metadata": {},
   "source": [
    "## Solution 3(3)"
   ]
  },
  {
   "cell_type": "code",
   "execution_count": 2,
   "metadata": {},
   "outputs": [
    {
     "name": "stdout",
     "output_type": "stream",
     "text": [
      "Student name \t\t|| Student euid\n",
      "===================================\n",
      "Chris Steve Garry \t|| csg7271\n",
      "Anita Betty Abel \t|| aba3330\n",
      "Clara Sarah Irvin \t|| csi6247\n"
     ]
    }
   ],
   "source": [
    "# Assign euid to students \n",
    "import random\n",
    "def createid(each_student):\n",
    "  each_student.euid = each_student.FirstName.lower()[0] + each_student.MiddleName.lower()[0] + each_student.LastName.lower()[0] + str(random.randint(1000,9999))  \n",
    "  print(each_student.FirstName, each_student.MiddleName, each_student.LastName, \"\\t||\", each_student.euid)\n",
    "    \n",
    "print(\"Student name \\t\\t|| Student euid\")  \n",
    "print(\"===================================\") \n",
    "for i in range(3):  # create 3 users\n",
    "    createid(Students[i])"
   ]
  },
  {
   "cell_type": "markdown",
   "metadata": {},
   "source": [
    "## Solution 3(4)"
   ]
  },
  {
   "cell_type": "code",
   "execution_count": 3,
   "metadata": {},
   "outputs": [
    {
     "name": "stdout",
     "output_type": "stream",
     "text": [
      "How many courses to register for the student csg7271, at least two ? 2\n",
      "Enter the Class number, Semester, Grade: INFO 5200, Spring 2019, A\n",
      "Enter the Class number, Semester, Grade: INFO 5201, Fall 2019, B\n",
      "How many courses to register for the student aba3330, at least two ? 2\n",
      "Enter the Class number, Semester, Grade: INFO 5500, Spring 2019, A\n",
      "Enter the Class number, Semester, Grade: INFO 5717, Fall 2019, A\n",
      "How many courses to register for the student csi6247, at least two ? 2\n",
      "Enter the Class number, Semester, Grade: INFO 5307, Spring 2019, C\n",
      "Enter the Class number, Semester, Grade: INFO 5950, Spring 2019, B\n"
     ]
    }
   ],
   "source": [
    "# Enter the infomation about the courses taken\n",
    "def register(each_student):\n",
    "    m = int(input(f\"How many courses to register for the student {each_student.euid}, at least two ? \"))   \n",
    "    if m < 2:\n",
    "        print(\"Student should register for at least two courses!\")\n",
    "        print(\"Please enter the correct value\")\n",
    "        m = int(input(\"\"))\n",
    "    for _ in range(m):\n",
    "        a, b, c = input(\"Enter the Class number, Semester, Grade: \").split(\",\")\n",
    "        each_student.ClassesTaken.append([a,b,c])  \n",
    "\n",
    "for i in range(3):\n",
    "    register(Students[i])  "
   ]
  },
  {
   "cell_type": "markdown",
   "metadata": {},
   "source": [
    "## Solution 3(5)"
   ]
  },
  {
   "cell_type": "code",
   "execution_count": 4,
   "metadata": {},
   "outputs": [
    {
     "name": "stdout",
     "output_type": "stream",
     "text": [
      "Student name \t\t| GPA\n",
      "================================\n",
      "Chris Steve Garry \t| 3.5\n",
      "Anita Betty Abel \t| 4.0\n",
      "Clara Sarah Irvin \t| 2.5\n"
     ]
    }
   ],
   "source": [
    "# Calculae GPA (as the average of all courses at which a student took)\n",
    "def Grade2gpa(argument):\n",
    "    switcher = {\n",
    "        \"A\": 4,\n",
    "        \"B\": 3,\n",
    "        \"C\": 2,\n",
    "        \"D\": 1,\n",
    "        \"E\": 0,\n",
    "    }\n",
    "    return switcher.get(argument.strip(), 0)\n",
    "\n",
    "def GPA_calc(each_student):\n",
    "    m = 0\n",
    "    for i in range(len(each_student.ClassesTaken)):\n",
    "        n = each_student.ClassesTaken[i] \n",
    "        m = m + int(Grade2gpa(n[2])) #GPA of the class \n",
    "    m = m / len(each_student.ClassesTaken)  \n",
    "    return round(m, 2)  \n",
    "\n",
    "print(\"Student name \\t\\t| GPA\")  \n",
    "print(\"================================\") \n",
    "for i in range(3): \n",
    "    print(Students[i].FirstName, Students[i].MiddleName, Students[i].LastName, \"\\t|\", GPA_calc(Students[i]))"
   ]
  },
  {
   "cell_type": "markdown",
   "metadata": {},
   "source": [
    "# Extra Credits: Question 4"
   ]
  },
  {
   "cell_type": "markdown",
   "metadata": {},
   "source": [
    "## Solution"
   ]
  },
  {
   "cell_type": "code",
   "execution_count": 1,
   "metadata": {},
   "outputs": [
    {
     "name": "stdout",
     "output_type": "stream",
     "text": [
      "************************\n",
      "** A Simple Math Quiz **\n",
      "************************\n",
      "1. Addition\n",
      "2. Subtraction\n",
      "3. Multiplication\n",
      "4. Integer Division\n",
      "5. Exit\n",
      "------------------------\n",
      "Enter your choice: 1\n",
      "Enter your answer\n",
      "62+89 = 151\n",
      "Correct.\n",
      "Enter your choice: 2\n",
      "Enter your answer\n",
      "36-7 = 29\n",
      "Correct.\n",
      "Enter your choice: 3\n",
      "Enter your answer\n",
      "97*70 = 6790\n",
      "Correct.\n",
      "Enter your choice: 4\n",
      "Enter your answer\n",
      "98 // 66 = 1\n",
      "Correct.\n",
      "Enter your choice: 5\n",
      "Exit the quiz.\n",
      "------------------------\n",
      "You answered 4 questions with 4 correct.\n",
      "Your score is 100.0%. Thank you.\n"
     ]
    }
   ],
   "source": [
    "def quiz_introduction():\n",
    "   print(\"*\" * 24)\n",
    "   print(\"** A Simple Math Quiz **\")\n",
    "   print(\"*\" * 24)\n",
    "\n",
    "def quiz_questions_init():\n",
    "   print(\"1. Addition\")\n",
    "   print(\"2. Subtraction\")\n",
    "   print(\"3. Multiplication\")\n",
    "   print(\"4. Integer Division\")\n",
    "   print(\"5. Exit\")\n",
    "\n",
    "def section_separator():\n",
    "# print вЂњ---------------------вЂќ to separate each section\n",
    "  print(\"-\" * 24)\n",
    "\n",
    "def get_user_question_choice():\n",
    "    val = int(input(\"Enter your choice: \"))\n",
    "    return val\n",
    "\n",
    "def quiz_questions(option, count):\n",
    "  import random\n",
    "  a1 = random.randint(1,99)\n",
    "  a2 = random.randint(1,99)\n",
    "  if option == 1:\n",
    "     problem = str(a1) + \"+\" + str(a2)\n",
    "     answer = a1 + a2\n",
    "  elif option == 2:\n",
    "     problem = str(a1) + \"-\" + str(a2)\n",
    "     answer = a1 - a2\n",
    "  elif option == 3:\n",
    "     problem = str(a1) + \"*\" + str(a2)\n",
    "     answer = a1 * a2\n",
    "  elif option == 4:\n",
    "     problem = str(a1) + \" // \" + str(a2)\n",
    "     answer = a1 // a2\n",
    "  user_answer = get_user_input_solution(problem)\n",
    "  res = solution_checking(user_answer, answer, count)\n",
    "  return res\n",
    "\n",
    "def get_user_input_solution(problem):\n",
    "  print(\"Enter your answer\")\n",
    "  print(problem, end=\"\")\n",
    "  result = int(input(\" = \"))\n",
    "  return result\n",
    "\n",
    "def show_result(total, correct):\n",
    "  print(f\"You answered {total} questions with {correct} correct.\")\n",
    "  print(f\"Your score is {round(correct*100/total,2)}%. Thank you.\")\n",
    "\n",
    "def solution_checking(user_solution, solution, count):\n",
    "    if int(user_solution) == int(solution):\n",
    "       res = count + 1\n",
    "       print(\"Correct.\")\n",
    "    else:\n",
    "       res = count\n",
    "       print(\"Wrong.\")\n",
    "    return res\n",
    "\n",
    "\n",
    "def main():\n",
    "  total = 0\n",
    "  correct = 0\n",
    "  quiz_introduction()\n",
    "  quiz_questions_init()\n",
    "  section_separator()\n",
    "  option = get_user_question_choice()\n",
    "  while option != 5:\n",
    "     total = total + 1\n",
    "     correct = quiz_questions(option, correct)\n",
    "     option = get_user_question_choice()\n",
    "  print(\"Exit the quiz.\")\n",
    "  section_separator()\n",
    "  show_result(total, correct)\n",
    "\n",
    "\n",
    "main()"
   ]
  },
  {
   "cell_type": "code",
   "execution_count": null,
   "metadata": {},
   "outputs": [],
   "source": []
  }
 ],
 "metadata": {
  "kernelspec": {
   "display_name": "Python 3",
   "language": "python",
   "name": "python3"
  },
  "language_info": {
   "codemirror_mode": {
    "name": "ipython",
    "version": 3
   },
   "file_extension": ".py",
   "mimetype": "text/x-python",
   "name": "python",
   "nbconvert_exporter": "python",
   "pygments_lexer": "ipython3",
   "version": "3.7.3"
  }
 },
 "nbformat": 4,
 "nbformat_minor": 2
}
